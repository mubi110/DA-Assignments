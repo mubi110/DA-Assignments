{
 "cells": [
  {
   "cell_type": "markdown",
   "id": "c14d7201-2e8b-4417-ac21-9c593ed6d3d5",
   "metadata": {},
   "source": [
    "#### Question No. 01"
   ]
  },
  {
   "cell_type": "code",
   "execution_count": 64,
   "id": "dfc37b2c-2454-489f-a37f-90554ae14024",
   "metadata": {},
   "outputs": [
    {
     "name": "stdout",
     "output_type": "stream",
     "text": [
      "Twinkle, twinkle, little star, \n",
      "  How I wonder what you are! \n",
      "     Up above the world so high, \n",
      "     Like a diamond in the sky. \n",
      " Twinkle, twinkle, little star, \n",
      " How I wonder what you are! \n"
     ]
    }
   ],
   "source": [
    "print(\"Twinkle, twinkle, little star, \\n  How I wonder what you are! \\n     Up above the world so high, \\n     Like a diamond in the sky. \\n Twinkle, twinkle, little star, \\n How I wonder what you are! \")"
   ]
  },
  {
   "cell_type": "markdown",
   "id": "6454595c-864a-43bb-a87b-0397c89b74df",
   "metadata": {},
   "source": [
    "#### Question No. 02"
   ]
  },
  {
   "cell_type": "code",
   "execution_count": 1,
   "id": "22d3ee2a-2996-4b94-aac7-f42be383c2e0",
   "metadata": {},
   "outputs": [
    {
     "name": "stdout",
     "output_type": "stream",
     "text": [
      "Python Version:  3.12.4 | packaged by Anaconda, Inc. | (main, Jun 18 2024, 15:03:56) [MSC v.1929 64 bit (AMD64)]\n"
     ]
    }
   ],
   "source": [
    "import sys\n",
    "ver = sys.version\n",
    "print(\"Python Version: \",ver)"
   ]
  },
  {
   "cell_type": "markdown",
   "id": "975a988d-231e-46b3-bcf8-c5a6286582c9",
   "metadata": {},
   "source": [
    "#### Question No. 03"
   ]
  },
  {
   "cell_type": "code",
   "execution_count": 1,
   "id": "1d1eed88-f77e-451a-8896-412722141027",
   "metadata": {},
   "outputs": [
    {
     "name": "stdout",
     "output_type": "stream",
     "text": [
      "Current date and time: 2024-08-03 00:43:03.869383\n"
     ]
    }
   ],
   "source": [
    "import datetime \n",
    "now = datetime.datetime.now() \n",
    "print(\"Current date and time:\",now) "
   ]
  },
  {
   "cell_type": "markdown",
   "id": "5d6926f8-e031-4979-a34c-203ed4006318",
   "metadata": {},
   "source": [
    "#### Question No. 04"
   ]
  },
  {
   "cell_type": "markdown",
   "id": "993b448b-c50e-425f-992c-fb815a9df46d",
   "metadata": {},
   "source": [
    "import math\n",
    "radius = float(input(\"Enter radius of the circle: \"))\n",
    "area = math.pi * radius**2\n",
    "print(\"Area of Circle: \", area)"
   ]
  },
  {
   "cell_type": "markdown",
   "id": "f93556c6-4b20-4620-92ba-03657f381c0b",
   "metadata": {},
   "source": [
    "#### Question No. 05"
   ]
  },
  {
   "cell_type": "code",
   "execution_count": 92,
   "id": "24f324e6-3378-41c5-8846-e5927aa5d38c",
   "metadata": {},
   "outputs": [
    {
     "name": "stdin",
     "output_type": "stream",
     "text": [
      "Enter your first name:  Mirza\n",
      "Enter your last name:  Ali\n"
     ]
    },
    {
     "name": "stdout",
     "output_type": "stream",
     "text": [
      "Ali Mirza\n"
     ]
    }
   ],
   "source": [
    "fname = input(\"Enter your first name: \")\n",
    "lname = input(\"Enter your last name: \")\n",
    "\n",
    "print(lname, fname)"
   ]
  },
  {
   "cell_type": "markdown",
   "id": "338aa57d-227e-403b-80a4-c30735d8af66",
   "metadata": {},
   "source": [
    "#### Question No. 06"
   ]
  },
  {
   "cell_type": "code",
   "execution_count": 105,
   "id": "272daeb0-89ca-4915-bad8-247654cbfdb6",
   "metadata": {},
   "outputs": [
    {
     "name": "stdin",
     "output_type": "stream",
     "text": [
      "Enter first number:  2.2\n",
      "Enter second number:  3.2\n"
     ]
    },
    {
     "name": "stdout",
     "output_type": "stream",
     "text": [
      "Addition of Value one & Value two is:  5.4\n"
     ]
    }
   ],
   "source": [
    "val1 = float(input(\"Enter first number: \"))\n",
    "val2 = float(input(\"Enter second number: \"))\n",
    "sum = val1+val2\n",
    "print(\"Addition of Value one & Value two is: \", sum)"
   ]
  },
  {
   "cell_type": "markdown",
   "id": "ce6d9947-ff17-44c4-b13c-6eca784a35d0",
   "metadata": {},
   "source": [
    "#### Question No. 07"
   ]
  },
  {
   "cell_type": "code",
   "execution_count": 120,
   "id": "3e7da5f7-5d0f-4874-8a4c-ef36a6420e9e",
   "metadata": {},
   "outputs": [
    {
     "name": "stdin",
     "output_type": "stream",
     "text": [
      "Enter the Maths marks:  50\n",
      "Enter the English marks:  49\n",
      "Enter the Urdu marks:  50\n",
      "Enter the Computer marks:  40\n",
      "Enter the Islamiat marks:  40\n"
     ]
    },
    {
     "name": "stdout",
     "output_type": "stream",
     "text": [
      "Total Marks:  229.0\n",
      "Percenatge:  45.800000000000004\n",
      "Fail\n"
     ]
    }
   ],
   "source": [
    "math = float(input(\"Enter the Maths marks: \"))\n",
    "english = float(input(\"Enter the English marks: \"))\n",
    "urdu = float(input(\"Enter the Urdu marks: \"))\n",
    "computer = float(input(\"Enter the Computer marks: \"))\n",
    "islamiat = float(input(\"Enter the Islamiat marks: \"))\n",
    "\n",
    "tmarks = math+english+urdu+computer+islamiat\n",
    "print(\"Total Marks: \",tmarks)\n",
    "\n",
    "percentage = (tmarks/500)*100\n",
    "print(\"Percenatge: \", percentage)\n",
    "\n",
    "if percentage>80:\n",
    "    print(\"Grade A\")\n",
    "elif percentage>70:\n",
    "    print(\"Grade B\")\n",
    "elif percentage>60:\n",
    "    print(\"Grade c\")\n",
    "elif percentage>50:\n",
    "    print(\"Grade D\")\n",
    "else:\n",
    "    print(\"Fail\")"
   ]
  },
  {
   "cell_type": "markdown",
   "id": "e0fc64ec-a518-4a09-a83f-a52131427d35",
   "metadata": {},
   "source": [
    "#### Question No. 08"
   ]
  },
  {
   "cell_type": "code",
   "execution_count": 145,
   "id": "a69fc846-ce21-482d-b0f9-a3dea5d8f8c7",
   "metadata": {},
   "outputs": [
    {
     "name": "stdin",
     "output_type": "stream",
     "text": [
      "Enter value to check Even or Odd:  3\n"
     ]
    },
    {
     "name": "stdout",
     "output_type": "stream",
     "text": [
      "3 is Odd number\n"
     ]
    }
   ],
   "source": [
    "val = int(input(\"Enter value to check Even or Odd: \"))\n",
    "\n",
    "if val % 2 == 0:\n",
    "    print(val,\"is Even number\") \n",
    "else:\n",
    "    print(val,\"is Odd number\")"
   ]
  },
  {
   "cell_type": "markdown",
   "id": "d0595e2f-b01e-4fdf-b8db-91cf12b525df",
   "metadata": {},
   "source": [
    "#### Question No. 09"
   ]
  },
  {
   "cell_type": "code",
   "execution_count": 154,
   "id": "3ae0ea96-a88b-4139-84f5-7ec9db982826",
   "metadata": {},
   "outputs": [
    {
     "name": "stdout",
     "output_type": "stream",
     "text": [
      "Length of list is: 7\n"
     ]
    }
   ],
   "source": [
    "list = [1, 2, 3, 4, 5, 6, 7]\n",
    "length = len(list)\n",
    "print (\"Length of list is:\",length)"
   ]
  },
  {
   "cell_type": "markdown",
   "id": "3b079886-d1d0-42dd-ac89-a4ec845b9f8e",
   "metadata": {},
   "source": [
    "#### Question No. 11"
   ]
  },
  {
   "cell_type": "code",
   "execution_count": 172,
   "id": "e4235d2b-b985-410f-bd3d-62e5d51e83d1",
   "metadata": {},
   "outputs": [
    {
     "name": "stdout",
     "output_type": "stream",
     "text": [
      "Largest number in list: 101\n"
     ]
    }
   ],
   "source": [
    "list = [1, 1, 101, 3, 5, 44, 33, 21, 34, 55, 89] \n",
    "\n",
    "list.sort()\n",
    "\n",
    "print(\"Largest number in list:\", list[-1] )"
   ]
  },
  {
   "cell_type": "markdown",
   "id": "bd980019-628d-4ecf-8942-896f24412490",
   "metadata": {},
   "source": [
    "#### Question No. 12"
   ]
  },
  {
   "cell_type": "code",
   "execution_count": 175,
   "id": "6b8dacc9-289b-498f-a8e5-9ed1a46d5c49",
   "metadata": {},
   "outputs": [
    {
     "name": "stdout",
     "output_type": "stream",
     "text": [
      "1\n",
      "1\n",
      "2\n",
      "3\n"
     ]
    }
   ],
   "source": [
    "a = [1, 1, 2, 3, 5, 8, 13, 21, 34, 55, 89] \n",
    " \n",
    "for element in a: \n",
    "    if element < 5: \n",
    "        print(element) "
   ]
  },
  {
   "cell_type": "code",
   "execution_count": null,
   "id": "d793a61f-96cc-4afc-850b-f8833c754b6d",
   "metadata": {},
   "outputs": [],
   "source": []
  }
 ],
 "metadata": {
  "kernelspec": {
   "display_name": "Python 3 (ipykernel)",
   "language": "python",
   "name": "python3"
  },
  "language_info": {
   "codemirror_mode": {
    "name": "ipython",
    "version": 3
   },
   "file_extension": ".py",
   "mimetype": "text/x-python",
   "name": "python",
   "nbconvert_exporter": "python",
   "pygments_lexer": "ipython3",
   "version": "3.12.4"
  }
 },
 "nbformat": 4,
 "nbformat_minor": 5
}
